{
 "cells": [
  {
   "cell_type": "markdown",
   "metadata": {},
   "source": [
    "# Ambiente local de desenvolvimento"
   ]
  },
  {
   "cell_type": "markdown",
   "metadata": {},
   "source": [
    "Neste exercício temos que resolver o problema do [Kaggle](https://www.kaggle.com/c/santander-customer-satisfaction/data) de predizer a probabilidade de um cliente do Santander estar satisfeito. "
   ]
  },
  {
   "cell_type": "markdown",
   "metadata": {},
   "source": [
    "## Configuração do Ambiente\n",
    "\n",
    "O primeiro passo é configurar o ambiente com todos os artefatos que iremos usar neste notebook, tais como as bibliotecas do Python, além os dados e diretórios de entrada e saída."
   ]
  },
  {
   "cell_type": "code",
   "execution_count": null,
   "metadata": {
    "collapsed": false
   },
   "outputs": [],
   "source": [
    "import os\n",
    "import requests\n",
    "import pandas as pd"
   ]
  },
  {
   "cell_type": "markdown",
   "metadata": {},
   "source": [
    "O workspace de desenvolvimento estará em *santander_cs_scikit*."
   ]
  },
  {
   "cell_type": "code",
   "execution_count": null,
   "metadata": {
    "collapsed": true
   },
   "outputs": [],
   "source": [
    "workspace_path = 'santander_cs_scikit'\n",
    "!mkdir -p {workspace_path}"
   ]
  },
  {
   "cell_type": "markdown",
   "metadata": {},
   "source": [
    "### Download dos dados"
   ]
  },
  {
   "cell_type": "markdown",
   "metadata": {},
   "source": [
    "**NOTA**: Se você já tiver executado esse notebook, limpe o ambiente antes de continuar:"
   ]
  },
  {
   "cell_type": "code",
   "execution_count": null,
   "metadata": {
    "collapsed": true
   },
   "outputs": [],
   "source": [
    "!rm -rf {workspace_path} && mkdir {workspace_path}"
   ]
  },
  {
   "cell_type": "markdown",
   "metadata": {},
   "source": [
    "Cria a pasta onde serão armazenados os dados desafio do Santander."
   ]
  },
  {
   "cell_type": "code",
   "execution_count": null,
   "metadata": {
    "collapsed": false
   },
   "outputs": [],
   "source": [
    "!mkdir {workspace_path}/data"
   ]
  },
  {
   "cell_type": "markdown",
   "metadata": {},
   "source": [
    "O código abaixo realiza o download dos arquivos de entrada dos dados do Censo dos EUA e armazena localmente em {workspace_path}/data"
   ]
  },
  {
   "cell_type": "code",
   "execution_count": null,
   "metadata": {
    "collapsed": false
   },
   "outputs": [],
   "source": [
    "path = os.path.join(workspace_path, 'data')\n",
    "url = \"https://github.com/savioteles/machine_learning/raw/master/kaggle_santander_customer_satisfaction/data/train.csv.zip\"\n",
    "response = requests.get(url)\n",
    "name = os.path.basename(url)\n",
    "with open(os.path.join(path, name), 'w') as f:\n",
    "    f.write(response.content)"
   ]
  },
  {
   "cell_type": "raw",
   "metadata": {},
   "source": [
    "O arquivo **train.csv.zip** foi copiado para a pasta *data*. Como está comprimido, devemos compactá-lo."
   ]
  },
  {
   "cell_type": "code",
   "execution_count": null,
   "metadata": {
    "collapsed": false
   },
   "outputs": [],
   "source": [
    "!unzip -o {workspace_path}/data/train.csv.zip -d {workspace_path}/data"
   ]
  },
  {
   "cell_type": "code",
   "execution_count": null,
   "metadata": {
    "collapsed": false
   },
   "outputs": [],
   "source": [
    "!ls {workspace_path}/data"
   ]
  },
  {
   "cell_type": "markdown",
   "metadata": {},
   "source": [
    "Os dados do csv são lidos e armazenados no dataframe de treinamento **original_data**. A coluna **TARGET** é a coluna a ser predita. Esta coluna tem valor 1 para clientes não satisfeitos e 0 para clientes satisfeitos."
   ]
  },
  {
   "cell_type": "code",
   "execution_count": null,
   "metadata": {
    "collapsed": false
   },
   "outputs": [],
   "source": [
    "data_path = os.path.join(workspace_path, 'data')\n",
    "original_data = pd.read_csv(os.path.join(data_path, 'train.csv'))\n",
    "original_data.head()"
   ]
  },
  {
   "cell_type": "markdown",
   "metadata": {},
   "source": [
    "Os dados foram baixados e inseridos em um Dataframe. Agora é construir o modelo de classificação. **A parte mais divertida ficou para vocês. Have fun!**"
   ]
  },
  {
   "cell_type": "code",
   "execution_count": null,
   "metadata": {
    "collapsed": true
   },
   "outputs": [],
   "source": []
  }
 ],
 "metadata": {
  "kernelspec": {
   "display_name": "Python 2",
   "language": "python",
   "name": "python2"
  },
  "language_info": {
   "codemirror_mode": {
    "name": "ipython",
    "version": 2
   },
   "file_extension": ".py",
   "mimetype": "text/x-python",
   "name": "python",
   "nbconvert_exporter": "python",
   "pygments_lexer": "ipython2",
   "version": "2.7.12"
  }
 },
 "nbformat": 4,
 "nbformat_minor": 2
}
